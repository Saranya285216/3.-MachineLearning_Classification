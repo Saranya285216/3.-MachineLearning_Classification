{
 "cells": [
  {
   "cell_type": "code",
   "execution_count": 1,
   "id": "783ed871",
   "metadata": {},
   "outputs": [],
   "source": [
    "import pickle"
   ]
  },
  {
   "cell_type": "code",
   "execution_count": 5,
   "id": "da462823",
   "metadata": {},
   "outputs": [],
   "source": [
    "loaded_model=pickle.load(open(\"Finalized_model_BernoulliNB.sav\",'rb'))"
   ]
  },
  {
   "cell_type": "code",
   "execution_count": 6,
   "id": "0ff3f95f",
   "metadata": {},
   "outputs": [
    {
     "name": "stdout",
     "output_type": "stream",
     "text": [
      "Age:12\n",
      "Bp:65\n",
      "Al:0\n",
      "Sugar:0\n",
      "Bgr:98\n",
      "Bu:26\n",
      "Sc:0.5\n",
      "Sod:123\n",
      "Pot:4.0\n",
      "Hrmo:14.3\n",
      "PCV:34\n",
      "WC:5600\n",
      "RC:5.1\n",
      "Sg_b:1\n",
      "Sg_c:0\n",
      "sg_d:0\n",
      "Sg_e:0\n",
      "rbc_normal:1\n",
      "Pc_normal:1\n",
      "Pcc_present:0\n",
      "Ba_present:0\n",
      "Htn_yes:0\n",
      "Dm_yes:0\n",
      "cad_yes:0\n",
      "Appet_yes:1\n",
      "Pe_yes:0\n",
      "Ane_yes:0\n",
      "Based on the Information Chronic Kidney Disese appears O or 1: [0]\n"
     ]
    }
   ],
   "source": [
    "age_input=int(input(\"Age:\"))\n",
    "bp_input=float(input(\"Bp:\"))\n",
    "al_input=float(input(\"Al:\"))\n",
    "su_input=float(input(\"Sugar:\"))\n",
    "bgr_input=float(input(\"Bgr:\"))\n",
    "bu_input=float(input(\"Bu:\"))\n",
    "sc_input=float(input(\"Sc:\"))\n",
    "sod_input=float(input(\"Sod:\"))\n",
    "pot_input=float(input(\"Pot:\"))\n",
    "hrmo_input=float(input(\"Hrmo:\"))  \n",
    "pcv_input=float(input(\"PCV:\"))   \n",
    "wc_input=float(input(\"WC:\"))     \n",
    "rc_input=float(input(\"RC:\"))     \n",
    "sgb_input=float(input(\"Sg_b:\"))\n",
    "sgc_input=float(input(\"Sg_c:\"))\n",
    "sgd_input=float(input(\"sg_d:\"))\n",
    "sge_input=float(input(\"Sg_e:\"))\n",
    "rbc_input=float(input(\"rbc_normal:\"))  \n",
    "pc_input=float(input(\"Pc_normal:\"))\n",
    "pcc_input=float(input(\"Pcc_present:\"))\n",
    "ba_input=float(input(\"Ba_present:\"))\n",
    "htn_input=float(input(\"Htn_yes:\"))\n",
    "dm_input=float(input(\"Dm_yes:\"))\n",
    "cad_input=float(input(\"cad_yes:\"))\n",
    "appet_input=float(input(\"Appet_yes:\"))\n",
    "pe_input=float(input(\"Pe_yes:\"))\n",
    "ane_input=float(input(\"Ane_yes:\"))\n",
    "result=loaded_model.predict([[age_input, bp_input, al_input, su_input, bgr_input, bu_input, sc_input, sod_input, pot_input, hrmo_input,\n",
    "                           pcv_input, wc_input, rc_input, sgb_input, sgc_input, sgd_input, sge_input, rbc_input, pc_input, pcc_input,\n",
    "                           ba_input, htn_input, dm_input, cad_input, appet_input, pe_input, ane_input]])\n",
    "print(\"Based on the Information Chronic Kidney Disese appears O or 1:\",format(result))\n"
   ]
  },
  {
   "cell_type": "code",
   "execution_count": null,
   "id": "75063c82",
   "metadata": {},
   "outputs": [],
   "source": []
  }
 ],
 "metadata": {
  "kernelspec": {
   "display_name": "Python 3 (ipykernel)",
   "language": "python",
   "name": "python3"
  },
  "language_info": {
   "codemirror_mode": {
    "name": "ipython",
    "version": 3
   },
   "file_extension": ".py",
   "mimetype": "text/x-python",
   "name": "python",
   "nbconvert_exporter": "python",
   "pygments_lexer": "ipython3",
   "version": "3.11.5"
  }
 },
 "nbformat": 4,
 "nbformat_minor": 5
}
